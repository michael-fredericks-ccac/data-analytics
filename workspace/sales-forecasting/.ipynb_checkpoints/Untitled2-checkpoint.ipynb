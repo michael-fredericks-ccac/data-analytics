{
 "cells": [
  {
   "cell_type": "code",
   "execution_count": 2,
   "metadata": {},
   "outputs": [],
   "source": [
    "import pandas as pd\n",
    "import yfinance as yf\n",
    "from statsmodels.tsa.holtwinters import ExponentialSmoothing\n",
    "from sklearn import metrics\n",
    "%matplotlib inline"
   ]
  },
  {
   "cell_type": "code",
   "execution_count": 5,
   "metadata": {},
   "outputs": [
    {
     "name": "stdout",
     "output_type": "stream",
     "text": [
      "[*********************100%***********************]  1 of 1 completed\n"
     ]
    }
   ],
   "source": [
    "data = pd.DataFrame(yf.download('VTIQ', period='3mo', interval='1d')).reset_index(level=0)"
   ]
  },
  {
   "cell_type": "code",
   "execution_count": 9,
   "metadata": {},
   "outputs": [],
   "source": [
    "series = data['Close'].tolist()\n",
    "ts = pd.Series(data=series, index=pd.DatetimeIndex(data=data['Date'], copy=True)).asfreq('B')"
   ]
  },
  {
   "cell_type": "code",
   "execution_count": 10,
   "metadata": {},
   "outputs": [
    {
     "data": {
      "text/plain": [
       "Date\n",
       "2020-03-02    10.350000\n",
       "2020-03-03    11.500000\n",
       "2020-03-04    14.700000\n",
       "2020-03-05    14.700000\n",
       "2020-03-06    13.740000\n",
       "                ...    \n",
       "2020-05-26    28.500000\n",
       "2020-05-27    28.629999\n",
       "2020-05-28    27.500000\n",
       "2020-05-29    28.700001\n",
       "2020-06-01    32.625301\n",
       "Freq: B, Length: 66, dtype: float64"
      ]
     },
     "execution_count": 10,
     "metadata": {},
     "output_type": "execute_result"
    }
   ],
   "source": [
    "ts"
   ]
  },
  {
   "cell_type": "code",
   "execution_count": 11,
   "metadata": {},
   "outputs": [],
   "source": [
    "ts = (ts.ffill() + ts.bfill())/2"
   ]
  },
  {
   "cell_type": "code",
   "execution_count": 13,
   "metadata": {},
   "outputs": [],
   "source": [
    "train = ts[:52]\n",
    "test = ts[52:]"
   ]
  },
  {
   "cell_type": "code",
   "execution_count": 14,
   "metadata": {},
   "outputs": [
    {
     "data": {
      "text/plain": [
       "Date\n",
       "2020-03-02    10.350000\n",
       "2020-03-03    11.500000\n",
       "2020-03-04    14.700000\n",
       "2020-03-05    14.700000\n",
       "2020-03-06    13.740000\n",
       "2020-03-09    11.760000\n",
       "2020-03-10    12.000000\n",
       "2020-03-11    11.350000\n",
       "2020-03-12    11.020000\n",
       "2020-03-13    11.240000\n",
       "2020-03-16    10.940000\n",
       "2020-03-17    10.760000\n",
       "2020-03-18    10.500000\n",
       "2020-03-19    10.700000\n",
       "2020-03-20    10.650000\n",
       "2020-03-23    10.700000\n",
       "2020-03-24    10.810000\n",
       "2020-03-25    10.950000\n",
       "2020-03-26    11.050000\n",
       "2020-03-27    10.880000\n",
       "2020-03-30    10.975000\n",
       "2020-03-31    10.640000\n",
       "2020-04-01    10.590000\n",
       "2020-04-02    10.800000\n",
       "2020-04-03    10.800000\n",
       "2020-04-06    11.000000\n",
       "2020-04-07    10.940000\n",
       "2020-04-08    11.010000\n",
       "2020-04-09    11.120000\n",
       "2020-04-10    11.435000\n",
       "2020-04-13    11.750000\n",
       "2020-04-14    12.140000\n",
       "2020-04-15    11.800000\n",
       "2020-04-16    11.700000\n",
       "2020-04-17    11.740000\n",
       "2020-04-20    12.110000\n",
       "2020-04-21    11.640000\n",
       "2020-04-22    12.050000\n",
       "2020-04-23    12.330000\n",
       "2020-04-24    12.700000\n",
       "2020-04-27    14.350000\n",
       "2020-04-28    13.900000\n",
       "2020-04-29    13.940000\n",
       "2020-04-30    13.250000\n",
       "2020-05-01    13.000000\n",
       "2020-05-04    13.090000\n",
       "2020-05-05    13.230000\n",
       "2020-05-06    13.180000\n",
       "2020-05-07    14.850000\n",
       "2020-05-08    16.510000\n",
       "2020-05-11    20.379999\n",
       "2020-05-12    27.100000\n",
       "Freq: B, dtype: float64"
      ]
     },
     "execution_count": 14,
     "metadata": {},
     "output_type": "execute_result"
    }
   ],
   "source": [
    "train"
   ]
  },
  {
   "cell_type": "code",
   "execution_count": 15,
   "metadata": {},
   "outputs": [
    {
     "data": {
      "text/plain": [
       "Date\n",
       "2020-05-13    30.299999\n",
       "2020-05-14    25.790001\n",
       "2020-05-15    22.620001\n",
       "2020-05-18    21.830000\n",
       "2020-05-19    25.180000\n",
       "2020-05-20    22.850000\n",
       "2020-05-21    24.080000\n",
       "2020-05-22    25.660000\n",
       "2020-05-25    27.080000\n",
       "2020-05-26    28.500000\n",
       "2020-05-27    28.629999\n",
       "2020-05-28    27.500000\n",
       "2020-05-29    28.700001\n",
       "2020-06-01    32.625301\n",
       "Freq: B, dtype: float64"
      ]
     },
     "execution_count": 15,
     "metadata": {},
     "output_type": "execute_result"
    }
   ],
   "source": [
    "test"
   ]
  },
  {
   "cell_type": "code",
   "execution_count": 16,
   "metadata": {},
   "outputs": [
    {
     "name": "stderr",
     "output_type": "stream",
     "text": [
      "/home/michaelpfredericks/anaconda3/lib/python3.7/site-packages/statsmodels/tsa/holtwinters.py:744: ConvergenceWarning: Optimization failed to converge. Check mle_retvals.\n",
      "  ConvergenceWarning)\n"
     ]
    }
   ],
   "source": [
    "add_model = ExponentialSmoothing(train, trend='add').fit()\n",
    "add_predictions = add_model.forecast(len(test))\n",
    "mul_model = ExponentialSmoothing(train, trend='mul').fit()\n",
    "mul_predictions = mul_model.forecast(len(test))"
   ]
  },
  {
   "cell_type": "code",
   "execution_count": 17,
   "metadata": {},
   "outputs": [
    {
     "data": {
      "text/plain": [
       "2020-05-13     33.463481\n",
       "2020-05-14     39.984372\n",
       "2020-05-15     46.505262\n",
       "2020-05-18     53.026152\n",
       "2020-05-19     59.547043\n",
       "2020-05-20     66.067933\n",
       "2020-05-21     72.588823\n",
       "2020-05-22     79.109714\n",
       "2020-05-25     85.630604\n",
       "2020-05-26     92.151494\n",
       "2020-05-27     98.672384\n",
       "2020-05-28    105.193275\n",
       "2020-05-29    111.714165\n",
       "2020-06-01    118.235055\n",
       "Freq: B, dtype: float64"
      ]
     },
     "execution_count": 17,
     "metadata": {},
     "output_type": "execute_result"
    }
   ],
   "source": [
    "add_predictions"
   ]
  },
  {
   "cell_type": "code",
   "execution_count": 20,
   "metadata": {},
   "outputs": [
    {
     "data": {
      "text/plain": [
       "<matplotlib.axes._subplots.AxesSubplot at 0x7f68cc33fa90>"
      ]
     },
     "execution_count": 20,
     "metadata": {},
     "output_type": "execute_result"
    },
    {
     "data": {
      "image/png": "[encoded data removed]",
      "text/plain": [
       "<Figure size 864x576 with 1 Axes>"
      ]
     },
     "metadata": {
      "needs_background": "light"
     },
     "output_type": "display_data"
    }
   ],
   "source": [
    "train.plot(figsize=(12,8), legend=True)\n",
    "test.plot(legend=True)\n",
    "add_predictions.plot(legend=True)\n",
    "mul_predictions.plot(legend=True)"
   ]
  },
  {
   "cell_type": "code",
   "execution_count": null,
   "metadata": {},
   "outputs": [],
   "source": []
  }
 ],
 "metadata": {
  "kernelspec": {
   "display_name": "Python 3",
   "language": "python",
   "name": "python3"
  },
  "language_info": {
   "codemirror_mode": {
    "name": "ipython",
    "version": 3
   },
   "file_extension": ".py",
   "mimetype": "text/x-python",
   "name": "python",
   "nbconvert_exporter": "python",
   "pygments_lexer": "ipython3",
   "version": "3.7.6"
  }
 },
 "nbformat": 4,
 "nbformat_minor": 4
}
